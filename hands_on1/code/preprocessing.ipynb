{
 "cells": [
  {
   "cell_type": "code",
   "execution_count": null,
   "id": "9fc9528c",
   "metadata": {},
   "outputs": [],
   "source": [
    "import pandas as pd\n",
    "from dateutil.parser import parse\n",
    "import re\n",
    "from deep_translator import GoogleTranslator\n",
    "from langdetect import detect\n",
    "import spacy"
   ]
  },
  {
   "cell_type": "markdown",
   "id": "3c8e1ab5",
   "metadata": {},
   "source": [
    "### Data Summaries"
   ]
  },
  {
   "cell_type": "code",
   "execution_count": 111,
   "id": "deba8ba7",
   "metadata": {},
   "outputs": [
    {
     "data": {
      "text/html": [
       "<div>\n",
       "<style scoped>\n",
       "    .dataframe tbody tr th:only-of-type {\n",
       "        vertical-align: middle;\n",
       "    }\n",
       "\n",
       "    .dataframe tbody tr th {\n",
       "        vertical-align: top;\n",
       "    }\n",
       "\n",
       "    .dataframe thead th {\n",
       "        text-align: right;\n",
       "    }\n",
       "</style>\n",
       "<table border=\"1\" class=\"dataframe\">\n",
       "  <thead>\n",
       "    <tr style=\"text-align: right;\">\n",
       "      <th></th>\n",
       "      <th>Job ID</th>\n",
       "      <th>Title</th>\n",
       "      <th>Company</th>\n",
       "      <th>Location</th>\n",
       "      <th>Salary</th>\n",
       "      <th>Category</th>\n",
       "      <th>Posted Date</th>\n",
       "      <th>Link</th>\n",
       "      <th>Function</th>\n",
       "      <th>Type</th>\n",
       "      <th>Education</th>\n",
       "      <th>Level</th>\n",
       "      <th>Description</th>\n",
       "    </tr>\n",
       "  </thead>\n",
       "  <tbody>\n",
       "    <tr>\n",
       "      <th>0</th>\n",
       "      <td>15758013</td>\n",
       "      <td>Staff Engineering</td>\n",
       "      <td>Rusunami CityPark</td>\n",
       "      <td>Jakarta Barat</td>\n",
       "      <td>Rp 3 – 4 Juta</td>\n",
       "      <td>Kontrak;SMA / SMK / STM;1-2 Tahun;Staff / Offi...</td>\n",
       "      <td>7/9/2025 17:01</td>\n",
       "      <td>https://www.loker.id/teknik/elektro/staff-engi...</td>\n",
       "      <td>Teknisi Elektro</td>\n",
       "      <td>Kontrak</td>\n",
       "      <td>SMA / SMK / STM</td>\n",
       "      <td>Staff / Officer</td>\n",
       "      <td>Badan Pengelola Rusunami City Park adalah, Pen...</td>\n",
       "    </tr>\n",
       "    <tr>\n",
       "      <th>1</th>\n",
       "      <td>15785089</td>\n",
       "      <td>Leader Quality Control</td>\n",
       "      <td>PT. Mega Indo Prima</td>\n",
       "      <td>Tangerang</td>\n",
       "      <td>Rp 4 – 5 Juta</td>\n",
       "      <td>Kontrak;Diploma/D1/D2/D3;Sarjana / S1;1-2 Tahu...</td>\n",
       "      <td>7/9/2025 16:50</td>\n",
       "      <td>https://www.loker.id/pabrik-dan-manufaktur/qua...</td>\n",
       "      <td>Quality Control</td>\n",
       "      <td>Kontrak</td>\n",
       "      <td>Diploma/D1/D2/D3;Sarjana / S1</td>\n",
       "      <td>Supervisor / Coordinator</td>\n",
       "      <td>Seseorang yang melakukan pengecekan dan penguj...</td>\n",
       "    </tr>\n",
       "    <tr>\n",
       "      <th>2</th>\n",
       "      <td>15784987</td>\n",
       "      <td>Sales Executive</td>\n",
       "      <td>PT Niagamas Lestari Gemilang</td>\n",
       "      <td>Jakarta Barat</td>\n",
       "      <td>Negosiasi</td>\n",
       "      <td>Full Time;SMA / SMK / STM;1-2 Tahun;Staff / Of...</td>\n",
       "      <td>7/9/2025 16:50</td>\n",
       "      <td>https://www.loker.id/penjualan/konsultan-penju...</td>\n",
       "      <td>Sales Executive</td>\n",
       "      <td>Full Time</td>\n",
       "      <td>SMA / SMK / STM</td>\n",
       "      <td>Staff / Officer</td>\n",
       "      <td>PT Niagamas Lestari Gemilang adalah perusahaan...</td>\n",
       "    </tr>\n",
       "    <tr>\n",
       "      <th>3</th>\n",
       "      <td>15784306</td>\n",
       "      <td>Teknisi Telekomunikasi</td>\n",
       "      <td>PT Pangestu Suryaning Famili</td>\n",
       "      <td>Klaten</td>\n",
       "      <td>Rp 4 – 5 Juta</td>\n",
       "      <td>Kontrak;SMA / SMK / STM;1-2 Tahun;Fresh Gradua...</td>\n",
       "      <td>7/9/2025 16:45</td>\n",
       "      <td>https://www.loker.id/information-technology/te...</td>\n",
       "      <td>Teknisi Jaringan</td>\n",
       "      <td>Kontrak</td>\n",
       "      <td>SMA / SMK / STM</td>\n",
       "      <td>Junior / Entry Level</td>\n",
       "      <td>PT PANGESTU SURYANING FAMILI adalah perusahaan...</td>\n",
       "    </tr>\n",
       "    <tr>\n",
       "      <th>4</th>\n",
       "      <td>15784729</td>\n",
       "      <td>Sales Engineer</td>\n",
       "      <td>PT ASGI Industrial Indonesia</td>\n",
       "      <td>Cikarang</td>\n",
       "      <td>Rp 6 – 7 Juta</td>\n",
       "      <td>Full Time;Diploma/D1/D2/D3;Sarjana / S1;1-2 Ta...</td>\n",
       "      <td>7/9/2025 16:28</td>\n",
       "      <td>https://www.loker.id/penjualan/konsultan-penju...</td>\n",
       "      <td>Sales Engineer</td>\n",
       "      <td>Full Time</td>\n",
       "      <td>Diploma/D1/D2/D3;Sarjana / S1</td>\n",
       "      <td>Staff / Officer</td>\n",
       "      <td>PT ASGI Industrial Indonesia is a growing indu...</td>\n",
       "    </tr>\n",
       "  </tbody>\n",
       "</table>\n",
       "</div>"
      ],
      "text/plain": [
       "     Job ID                   Title                       Company  \\\n",
       "0  15758013       Staff Engineering             Rusunami CityPark   \n",
       "1  15785089  Leader Quality Control           PT. Mega Indo Prima   \n",
       "2  15784987         Sales Executive  PT Niagamas Lestari Gemilang   \n",
       "3  15784306  Teknisi Telekomunikasi  PT Pangestu Suryaning Famili   \n",
       "4  15784729          Sales Engineer  PT ASGI Industrial Indonesia   \n",
       "\n",
       "        Location         Salary  \\\n",
       "0  Jakarta Barat  Rp 3 – 4 Juta   \n",
       "1      Tangerang  Rp 4 – 5 Juta   \n",
       "2  Jakarta Barat      Negosiasi   \n",
       "3         Klaten  Rp 4 – 5 Juta   \n",
       "4       Cikarang  Rp 6 – 7 Juta   \n",
       "\n",
       "                                            Category     Posted Date  \\\n",
       "0  Kontrak;SMA / SMK / STM;1-2 Tahun;Staff / Offi...  7/9/2025 17:01   \n",
       "1  Kontrak;Diploma/D1/D2/D3;Sarjana / S1;1-2 Tahu...  7/9/2025 16:50   \n",
       "2  Full Time;SMA / SMK / STM;1-2 Tahun;Staff / Of...  7/9/2025 16:50   \n",
       "3  Kontrak;SMA / SMK / STM;1-2 Tahun;Fresh Gradua...  7/9/2025 16:45   \n",
       "4  Full Time;Diploma/D1/D2/D3;Sarjana / S1;1-2 Ta...  7/9/2025 16:28   \n",
       "\n",
       "                                                Link          Function  \\\n",
       "0  https://www.loker.id/teknik/elektro/staff-engi...   Teknisi Elektro   \n",
       "1  https://www.loker.id/pabrik-dan-manufaktur/qua...   Quality Control   \n",
       "2  https://www.loker.id/penjualan/konsultan-penju...   Sales Executive   \n",
       "3  https://www.loker.id/information-technology/te...  Teknisi Jaringan   \n",
       "4  https://www.loker.id/penjualan/konsultan-penju...    Sales Engineer   \n",
       "\n",
       "        Type                      Education                     Level  \\\n",
       "0    Kontrak                SMA / SMK / STM           Staff / Officer   \n",
       "1    Kontrak  Diploma/D1/D2/D3;Sarjana / S1  Supervisor / Coordinator   \n",
       "2  Full Time                SMA / SMK / STM           Staff / Officer   \n",
       "3    Kontrak                SMA / SMK / STM      Junior / Entry Level   \n",
       "4  Full Time  Diploma/D1/D2/D3;Sarjana / S1           Staff / Officer   \n",
       "\n",
       "                                         Description  \n",
       "0  Badan Pengelola Rusunami City Park adalah, Pen...  \n",
       "1  Seseorang yang melakukan pengecekan dan penguj...  \n",
       "2  PT Niagamas Lestari Gemilang adalah perusahaan...  \n",
       "3  PT PANGESTU SURYANING FAMILI adalah perusahaan...  \n",
       "4  PT ASGI Industrial Indonesia is a growing indu...  "
      ]
     },
     "execution_count": 111,
     "metadata": {},
     "output_type": "execute_result"
    }
   ],
   "source": [
    "df = pd.read_csv(\"lokerid_data.csv\")\n",
    "df.head()"
   ]
  },
  {
   "cell_type": "code",
   "execution_count": 112,
   "id": "df520fc0",
   "metadata": {},
   "outputs": [
    {
     "data": {
      "text/plain": [
       "(2373, 13)"
      ]
     },
     "execution_count": 112,
     "metadata": {},
     "output_type": "execute_result"
    }
   ],
   "source": [
    "df.shape"
   ]
  },
  {
   "cell_type": "markdown",
   "id": "d37f0541",
   "metadata": {},
   "source": [
    "There are 2373 rows and 13 columns in the dataset"
   ]
  },
  {
   "cell_type": "code",
   "execution_count": 113,
   "id": "5d17eff6",
   "metadata": {},
   "outputs": [
    {
     "data": {
      "text/plain": [
       "Job ID          int64\n",
       "Title          object\n",
       "Company        object\n",
       "Location       object\n",
       "Salary         object\n",
       "Category       object\n",
       "Posted Date    object\n",
       "Link           object\n",
       "Function       object\n",
       "Type           object\n",
       "Education      object\n",
       "Level          object\n",
       "Description    object\n",
       "dtype: object"
      ]
     },
     "execution_count": 113,
     "metadata": {},
     "output_type": "execute_result"
    }
   ],
   "source": [
    "df.dtypes"
   ]
  },
  {
   "cell_type": "code",
   "execution_count": 114,
   "id": "27b11d98",
   "metadata": {},
   "outputs": [
    {
     "data": {
      "text/plain": [
       "Job ID         0\n",
       "Title          0\n",
       "Company        0\n",
       "Location       0\n",
       "Salary         0\n",
       "Category       0\n",
       "Posted Date    0\n",
       "Link           0\n",
       "Function       0\n",
       "Type           0\n",
       "Education      0\n",
       "Level          0\n",
       "Description    0\n",
       "dtype: int64"
      ]
     },
     "execution_count": 114,
     "metadata": {},
     "output_type": "execute_result"
    }
   ],
   "source": [
    "# Check missing value\n",
    "df.isnull().sum()"
   ]
  },
  {
   "cell_type": "code",
   "execution_count": 115,
   "id": "7d761157",
   "metadata": {},
   "outputs": [
    {
     "data": {
      "text/html": [
       "<div>\n",
       "<style scoped>\n",
       "    .dataframe tbody tr th:only-of-type {\n",
       "        vertical-align: middle;\n",
       "    }\n",
       "\n",
       "    .dataframe tbody tr th {\n",
       "        vertical-align: top;\n",
       "    }\n",
       "\n",
       "    .dataframe thead th {\n",
       "        text-align: right;\n",
       "    }\n",
       "</style>\n",
       "<table border=\"1\" class=\"dataframe\">\n",
       "  <thead>\n",
       "    <tr style=\"text-align: right;\">\n",
       "      <th></th>\n",
       "      <th>Title</th>\n",
       "      <th>Company</th>\n",
       "      <th>Location</th>\n",
       "      <th>Salary</th>\n",
       "      <th>Category</th>\n",
       "      <th>Posted Date</th>\n",
       "      <th>Link</th>\n",
       "      <th>Function</th>\n",
       "      <th>Type</th>\n",
       "      <th>Education</th>\n",
       "      <th>Level</th>\n",
       "      <th>Description</th>\n",
       "    </tr>\n",
       "  </thead>\n",
       "  <tbody>\n",
       "    <tr>\n",
       "      <th>count</th>\n",
       "      <td>2373</td>\n",
       "      <td>2373</td>\n",
       "      <td>2373</td>\n",
       "      <td>2373</td>\n",
       "      <td>2373</td>\n",
       "      <td>2373</td>\n",
       "      <td>2373</td>\n",
       "      <td>2373</td>\n",
       "      <td>2373</td>\n",
       "      <td>2373</td>\n",
       "      <td>2373</td>\n",
       "      <td>2373</td>\n",
       "    </tr>\n",
       "    <tr>\n",
       "      <th>unique</th>\n",
       "      <td>1396</td>\n",
       "      <td>1288</td>\n",
       "      <td>112</td>\n",
       "      <td>14</td>\n",
       "      <td>1627</td>\n",
       "      <td>2241</td>\n",
       "      <td>2229</td>\n",
       "      <td>512</td>\n",
       "      <td>5</td>\n",
       "      <td>17</td>\n",
       "      <td>5</td>\n",
       "      <td>2231</td>\n",
       "    </tr>\n",
       "    <tr>\n",
       "      <th>top</th>\n",
       "      <td>Sales Marketing</td>\n",
       "      <td>Indonesia Global Grup</td>\n",
       "      <td>Jakarta Barat</td>\n",
       "      <td>Negosiasi</td>\n",
       "      <td>Full Time;SMA / SMK / STM;1-2 Tahun;Junior / E...</td>\n",
       "      <td>6/18/2025 8:15</td>\n",
       "      <td>https://www.loker.id/customer-care/customer-se...</td>\n",
       "      <td>Staff Accounting</td>\n",
       "      <td>Full Time</td>\n",
       "      <td>SMA / SMK / STM;Diploma/D1/D2/D3;Sarjana / S1</td>\n",
       "      <td>Junior / Entry Level</td>\n",
       "      <td>PT. PSKM, bergerak di bidang perdagangan bunga...</td>\n",
       "    </tr>\n",
       "    <tr>\n",
       "      <th>freq</th>\n",
       "      <td>55</td>\n",
       "      <td>31</td>\n",
       "      <td>251</td>\n",
       "      <td>999</td>\n",
       "      <td>11</td>\n",
       "      <td>4</td>\n",
       "      <td>2</td>\n",
       "      <td>64</td>\n",
       "      <td>1690</td>\n",
       "      <td>542</td>\n",
       "      <td>1062</td>\n",
       "      <td>2</td>\n",
       "    </tr>\n",
       "  </tbody>\n",
       "</table>\n",
       "</div>"
      ],
      "text/plain": [
       "                  Title                Company       Location     Salary  \\\n",
       "count              2373                   2373           2373       2373   \n",
       "unique             1396                   1288            112         14   \n",
       "top     Sales Marketing  Indonesia Global Grup  Jakarta Barat  Negosiasi   \n",
       "freq                 55                     31            251        999   \n",
       "\n",
       "                                                 Category     Posted Date  \\\n",
       "count                                                2373            2373   \n",
       "unique                                               1627            2241   \n",
       "top     Full Time;SMA / SMK / STM;1-2 Tahun;Junior / E...  6/18/2025 8:15   \n",
       "freq                                                   11               4   \n",
       "\n",
       "                                                     Link          Function  \\\n",
       "count                                                2373              2373   \n",
       "unique                                               2229               512   \n",
       "top     https://www.loker.id/customer-care/customer-se...  Staff Accounting   \n",
       "freq                                                    2                64   \n",
       "\n",
       "             Type                                      Education  \\\n",
       "count        2373                                           2373   \n",
       "unique          5                                             17   \n",
       "top     Full Time  SMA / SMK / STM;Diploma/D1/D2/D3;Sarjana / S1   \n",
       "freq         1690                                            542   \n",
       "\n",
       "                       Level  \\\n",
       "count                   2373   \n",
       "unique                     5   \n",
       "top     Junior / Entry Level   \n",
       "freq                    1062   \n",
       "\n",
       "                                              Description  \n",
       "count                                                2373  \n",
       "unique                                               2231  \n",
       "top     PT. PSKM, bergerak di bidang perdagangan bunga...  \n",
       "freq                                                    2  "
      ]
     },
     "execution_count": 115,
     "metadata": {},
     "output_type": "execute_result"
    }
   ],
   "source": [
    "df.describe(include='object')"
   ]
  },
  {
   "cell_type": "markdown",
   "id": "f5414b8f",
   "metadata": {},
   "source": [
    "### Posted Date Field Standardization"
   ]
  },
  {
   "cell_type": "code",
   "execution_count": 116,
   "id": "e669e09e",
   "metadata": {},
   "outputs": [
    {
     "name": "stdout",
     "output_type": "stream",
     "text": [
      "Posted date format 1: 7/9/2025 17:01\n",
      "Posted date format 2: 2025-06-16 04:39:14\n"
     ]
    }
   ],
   "source": [
    "print(\"Posted date format 1:\", df['Posted Date'].iloc[0])\n",
    "print(\"Posted date format 2:\", df['Posted Date'].iloc[-1])"
   ]
  },
  {
   "cell_type": "markdown",
   "id": "8ba069e9",
   "metadata": {},
   "source": [
    "The date format is inconsistent and should be standardized to match format 2"
   ]
  },
  {
   "cell_type": "code",
   "execution_count": 117,
   "id": "2f8c4605",
   "metadata": {},
   "outputs": [],
   "source": [
    "# Standardize the posted date format\n",
    "df['Posted Date'] = df['Posted Date'].apply(\n",
    "    lambda x: (\n",
    "        x if len(str(x).split(':')) == 3\n",
    "        else parse(x).strftime('%Y-%m-%d %H:%M:%S')\n",
    "    ) if pd.notnull(x) else x\n",
    ")"
   ]
  },
  {
   "cell_type": "code",
   "execution_count": 118,
   "id": "aa255cd3",
   "metadata": {},
   "outputs": [
    {
     "name": "stdout",
     "output_type": "stream",
     "text": [
      "Posted date 1: 2025-07-09 17:01:00\n",
      "Posted date 2: 2025-06-16 04:39:14\n"
     ]
    }
   ],
   "source": [
    "print(\"Posted date 1:\", df['Posted Date'].iloc[0])\n",
    "print(\"Posted date 2:\", df['Posted Date'].iloc[-1])"
   ]
  },
  {
   "cell_type": "markdown",
   "id": "98640368",
   "metadata": {},
   "source": [
    "### Duplicate Handling"
   ]
  },
  {
   "cell_type": "code",
   "execution_count": 119,
   "id": "f970ec40",
   "metadata": {},
   "outputs": [
    {
     "data": {
      "text/plain": [
       "12"
      ]
     },
     "execution_count": 119,
     "metadata": {},
     "output_type": "execute_result"
    }
   ],
   "source": [
    "# Check for duplicates based on all field\n",
    "duplicates = df[df.duplicated(keep=False)]\n",
    "len(duplicates)"
   ]
  },
  {
   "cell_type": "code",
   "execution_count": 120,
   "id": "47ec852a",
   "metadata": {},
   "outputs": [
    {
     "data": {
      "text/plain": [
       "144"
      ]
     },
     "execution_count": 120,
     "metadata": {},
     "output_type": "execute_result"
    }
   ],
   "source": [
    "# Check duplicates by Job ID\n",
    "duplicates = df[df[\"Job ID\"].duplicated()]\n",
    "len(duplicates)"
   ]
  },
  {
   "cell_type": "code",
   "execution_count": 121,
   "id": "128a8bcf",
   "metadata": {},
   "outputs": [
    {
     "data": {
      "text/html": [
       "<div>\n",
       "<style scoped>\n",
       "    .dataframe tbody tr th:only-of-type {\n",
       "        vertical-align: middle;\n",
       "    }\n",
       "\n",
       "    .dataframe tbody tr th {\n",
       "        vertical-align: top;\n",
       "    }\n",
       "\n",
       "    .dataframe thead th {\n",
       "        text-align: right;\n",
       "    }\n",
       "</style>\n",
       "<table border=\"1\" class=\"dataframe\">\n",
       "  <thead>\n",
       "    <tr style=\"text-align: right;\">\n",
       "      <th></th>\n",
       "      <th>Job ID</th>\n",
       "      <th>Title</th>\n",
       "      <th>Company</th>\n",
       "      <th>Location</th>\n",
       "      <th>Salary</th>\n",
       "      <th>Category</th>\n",
       "      <th>Posted Date</th>\n",
       "      <th>Link</th>\n",
       "      <th>Function</th>\n",
       "      <th>Type</th>\n",
       "      <th>Education</th>\n",
       "      <th>Level</th>\n",
       "      <th>Description</th>\n",
       "    </tr>\n",
       "  </thead>\n",
       "  <tbody>\n",
       "    <tr>\n",
       "      <th>273</th>\n",
       "      <td>15765600</td>\n",
       "      <td>Guru Bahasa Inggris</td>\n",
       "      <td>CV. IRDH Penerbitan</td>\n",
       "      <td>Kota Batu</td>\n",
       "      <td>Negosiasi</td>\n",
       "      <td>Part Time;SMA / SMK / STM;Diploma/D1/D2/D3;Sar...</td>\n",
       "      <td>2025-07-07 08:13:34</td>\n",
       "      <td>https://www.loker.id/pendidikan-pelatihan/tuto...</td>\n",
       "      <td>Guru Bahasa Inggris</td>\n",
       "      <td>Part Time</td>\n",
       "      <td>SMA / SMK / STM;Diploma/D1/D2/D3;Sarjana / S1;...</td>\n",
       "      <td>Junior / Entry Level</td>\n",
       "      <td>CV IRDH Malang (www.irdhcenter.com) membuka ke...</td>\n",
       "    </tr>\n",
       "    <tr>\n",
       "      <th>336</th>\n",
       "      <td>15765600</td>\n",
       "      <td>Guru Bahasa Inggris</td>\n",
       "      <td>CV. IRDH Penerbitan</td>\n",
       "      <td>Kota Batu</td>\n",
       "      <td>Negosiasi</td>\n",
       "      <td>Part Time;SMA / SMK / STM;Diploma/D1/D2/D3;Sar...</td>\n",
       "      <td>2025-07-07 08:13:00</td>\n",
       "      <td>https://www.loker.id/pendidikan-pelatihan/tuto...</td>\n",
       "      <td>Guru Bahasa Inggris</td>\n",
       "      <td>Part Time</td>\n",
       "      <td>SMA / SMK / STM;Diploma/D1/D2/D3;Sarjana / S1;...</td>\n",
       "      <td>Junior / Entry Level</td>\n",
       "      <td>CV IRDH Malang (www.irdhcenter.com) membuka ke...</td>\n",
       "    </tr>\n",
       "  </tbody>\n",
       "</table>\n",
       "</div>"
      ],
      "text/plain": [
       "       Job ID                Title              Company   Location     Salary  \\\n",
       "273  15765600  Guru Bahasa Inggris  CV. IRDH Penerbitan  Kota Batu  Negosiasi   \n",
       "336  15765600  Guru Bahasa Inggris  CV. IRDH Penerbitan  Kota Batu  Negosiasi   \n",
       "\n",
       "                                              Category          Posted Date  \\\n",
       "273  Part Time;SMA / SMK / STM;Diploma/D1/D2/D3;Sar...  2025-07-07 08:13:34   \n",
       "336  Part Time;SMA / SMK / STM;Diploma/D1/D2/D3;Sar...  2025-07-07 08:13:00   \n",
       "\n",
       "                                                  Link             Function  \\\n",
       "273  https://www.loker.id/pendidikan-pelatihan/tuto...  Guru Bahasa Inggris   \n",
       "336  https://www.loker.id/pendidikan-pelatihan/tuto...  Guru Bahasa Inggris   \n",
       "\n",
       "          Type                                          Education  \\\n",
       "273  Part Time  SMA / SMK / STM;Diploma/D1/D2/D3;Sarjana / S1;...   \n",
       "336  Part Time  SMA / SMK / STM;Diploma/D1/D2/D3;Sarjana / S1;...   \n",
       "\n",
       "                    Level                                        Description  \n",
       "273  Junior / Entry Level  CV IRDH Malang (www.irdhcenter.com) membuka ke...  \n",
       "336  Junior / Entry Level  CV IRDH Malang (www.irdhcenter.com) membuka ke...  "
      ]
     },
     "execution_count": 121,
     "metadata": {},
     "output_type": "execute_result"
    }
   ],
   "source": [
    "# Get one example duplicate value\n",
    "example_job_id = df[\"Job ID\"][df[\"Job ID\"].duplicated()].iloc[0]\n",
    "example_duplicates = df[df[\"Job ID\"] == example_job_id]\n",
    "example_duplicates"
   ]
  },
  {
   "cell_type": "markdown",
   "id": "677cb864",
   "metadata": {},
   "source": [
    "The job listing is identical, with the only difference being the posted date"
   ]
  },
  {
   "cell_type": "code",
   "execution_count": 122,
   "id": "89f3ea14",
   "metadata": {},
   "outputs": [],
   "source": [
    "# Change 'Posted Date' to datetime format\n",
    "df[\"Posted Date\"] = pd.to_datetime(df[\"Posted Date\"], errors='coerce')\n",
    "\n",
    "# Sort by newest posted date first\n",
    "df = df.sort_values(by=\"Posted Date\", ascending=False)\n",
    "\n",
    "# Drop duplicates keeping the latest one\n",
    "df = df.drop_duplicates(subset=[col for col in df.columns if col != \"Posted Date\"], keep=\"first\")\n",
    "df = df.reset_index(drop=True)"
   ]
  },
  {
   "cell_type": "code",
   "execution_count": 123,
   "id": "796417a8",
   "metadata": {},
   "outputs": [
    {
     "name": "stdout",
     "output_type": "stream",
     "text": [
      "Job ID '15765600' appears 1 time(s).\n"
     ]
    }
   ],
   "source": [
    "# Get the example Job ID used before\n",
    "example_job_id = 15765600\n",
    "\n",
    "# Check how many times it still appears\n",
    "count = df[df[\"Job ID\"] == example_job_id].shape[0]\n",
    "\n",
    "print(f\"Job ID '{example_job_id}' appears {count} time(s).\")"
   ]
  },
  {
   "cell_type": "markdown",
   "id": "f2530175",
   "metadata": {},
   "source": [
    "The duplicates by Job ID removed successfully"
   ]
  },
  {
   "cell_type": "code",
   "execution_count": 124,
   "id": "3bc86a92",
   "metadata": {},
   "outputs": [
    {
     "data": {
      "text/plain": [
       "3"
      ]
     },
     "execution_count": 124,
     "metadata": {},
     "output_type": "execute_result"
    }
   ],
   "source": [
    "# Check again the duplicates by Job ID\n",
    "duplicates = df[df[\"Job ID\"].duplicated()]\n",
    "len(duplicates)"
   ]
  },
  {
   "cell_type": "code",
   "execution_count": 125,
   "id": "b7c2742c",
   "metadata": {},
   "outputs": [
    {
     "data": {
      "text/html": [
       "<div>\n",
       "<style scoped>\n",
       "    .dataframe tbody tr th:only-of-type {\n",
       "        vertical-align: middle;\n",
       "    }\n",
       "\n",
       "    .dataframe tbody tr th {\n",
       "        vertical-align: top;\n",
       "    }\n",
       "\n",
       "    .dataframe thead th {\n",
       "        text-align: right;\n",
       "    }\n",
       "</style>\n",
       "<table border=\"1\" class=\"dataframe\">\n",
       "  <thead>\n",
       "    <tr style=\"text-align: right;\">\n",
       "      <th></th>\n",
       "      <th>Job ID</th>\n",
       "      <th>Title</th>\n",
       "      <th>Company</th>\n",
       "      <th>Location</th>\n",
       "      <th>Salary</th>\n",
       "      <th>Category</th>\n",
       "      <th>Posted Date</th>\n",
       "      <th>Link</th>\n",
       "      <th>Function</th>\n",
       "      <th>Type</th>\n",
       "      <th>Education</th>\n",
       "      <th>Level</th>\n",
       "      <th>Description</th>\n",
       "    </tr>\n",
       "  </thead>\n",
       "  <tbody>\n",
       "    <tr>\n",
       "      <th>1406</th>\n",
       "      <td>15008530</td>\n",
       "      <td>HSE Officer</td>\n",
       "      <td>PT Mitra Purnama Engineering</td>\n",
       "      <td>Lombok</td>\n",
       "      <td>Rp 3 – 4 Juta</td>\n",
       "      <td>Full Time;Diploma/D1/D2/D3;Sarjana / S1;1-2 Ta...</td>\n",
       "      <td>2025-06-18 08:15:04</td>\n",
       "      <td>https://www.loker.id/kesehatan-dan-kedokteran/...</td>\n",
       "      <td>Health and Safety Enviromental / HSE</td>\n",
       "      <td>Full Time</td>\n",
       "      <td>Diploma/D1/D2/D3;Sarjana / S1</td>\n",
       "      <td>Junior / Entry Level</td>\n",
       "      <td>PT. Mitra Purnama Engineering membutuhkan posi...</td>\n",
       "    </tr>\n",
       "    <tr>\n",
       "      <th>1407</th>\n",
       "      <td>15008530</td>\n",
       "      <td>HSE Officer</td>\n",
       "      <td>PT Mitra Purnama Engineering</td>\n",
       "      <td>Lombok</td>\n",
       "      <td>Rp 3 – 4 Juta</td>\n",
       "      <td>Full Time;Diploma/D1/D2/D3;Sarjana / S1;1-2 Ta...</td>\n",
       "      <td>2025-06-18 08:15:00</td>\n",
       "      <td>https://www.loker.id/kesehatan-dan-kedokteran/...</td>\n",
       "      <td>Health and Safety Enviromental / HSE</td>\n",
       "      <td>Full Time</td>\n",
       "      <td>Diploma/D1/D2/D3;Sarjana / S1</td>\n",
       "      <td>Junior / Entry Level</td>\n",
       "      <td>PT. Mitra Purnama Engineering membutuhkan posi...</td>\n",
       "    </tr>\n",
       "  </tbody>\n",
       "</table>\n",
       "</div>"
      ],
      "text/plain": [
       "        Job ID        Title                       Company Location  \\\n",
       "1406  15008530  HSE Officer  PT Mitra Purnama Engineering   Lombok   \n",
       "1407  15008530  HSE Officer  PT Mitra Purnama Engineering   Lombok   \n",
       "\n",
       "             Salary                                           Category  \\\n",
       "1406  Rp 3 – 4 Juta  Full Time;Diploma/D1/D2/D3;Sarjana / S1;1-2 Ta...   \n",
       "1407  Rp 3 – 4 Juta  Full Time;Diploma/D1/D2/D3;Sarjana / S1;1-2 Ta...   \n",
       "\n",
       "             Posted Date                                               Link  \\\n",
       "1406 2025-06-18 08:15:04  https://www.loker.id/kesehatan-dan-kedokteran/...   \n",
       "1407 2025-06-18 08:15:00  https://www.loker.id/kesehatan-dan-kedokteran/...   \n",
       "\n",
       "                                  Function       Type  \\\n",
       "1406  Health and Safety Enviromental / HSE  Full Time   \n",
       "1407  Health and Safety Enviromental / HSE  Full Time   \n",
       "\n",
       "                          Education                 Level  \\\n",
       "1406  Diploma/D1/D2/D3;Sarjana / S1  Junior / Entry Level   \n",
       "1407  Diploma/D1/D2/D3;Sarjana / S1  Junior / Entry Level   \n",
       "\n",
       "                                            Description  \n",
       "1406  PT. Mitra Purnama Engineering membutuhkan posi...  \n",
       "1407  PT. Mitra Purnama Engineering membutuhkan posi...  "
      ]
     },
     "execution_count": 125,
     "metadata": {},
     "output_type": "execute_result"
    }
   ],
   "source": [
    "# Get one example duplicate value\n",
    "example_job_id = df[\"Job ID\"][df[\"Job ID\"].duplicated()].iloc[0]\n",
    "example_duplicates = df[df[\"Job ID\"] == example_job_id]\n",
    "example_duplicates"
   ]
  },
  {
   "cell_type": "code",
   "execution_count": 126,
   "id": "f1a8ccee",
   "metadata": {},
   "outputs": [
    {
     "name": "stdout",
     "output_type": "stream",
     "text": [
      "Different description, same job ID\n"
     ]
    }
   ],
   "source": [
    "if df[\"Description\"].iloc[1406] != df[\"Description\"].iloc[1407]:\n",
    "    print(\"Different description, same job ID\")"
   ]
  },
  {
   "cell_type": "markdown",
   "id": "144a77ff",
   "metadata": {},
   "source": [
    "All fields is identical except the \"Description\""
   ]
  },
  {
   "cell_type": "code",
   "execution_count": 127,
   "id": "30dddc2f",
   "metadata": {},
   "outputs": [],
   "source": [
    "# Keep only the first row for jobs with identical Job ID but different Description\n",
    "df.drop_duplicates(subset='Job ID', keep='first', inplace=True)"
   ]
  },
  {
   "cell_type": "code",
   "execution_count": 128,
   "id": "7e716297",
   "metadata": {},
   "outputs": [
    {
     "data": {
      "text/plain": [
       "0"
      ]
     },
     "execution_count": 128,
     "metadata": {},
     "output_type": "execute_result"
    }
   ],
   "source": [
    "# Check again the duplicates by Job ID\n",
    "duplicates = df[df[\"Job ID\"].duplicated()]\n",
    "len(duplicates)"
   ]
  },
  {
   "cell_type": "markdown",
   "id": "e0792926",
   "metadata": {},
   "source": [
    "### Cleaning and Formatting Company Names"
   ]
  },
  {
   "cell_type": "code",
   "execution_count": 129,
   "id": "882a6dee",
   "metadata": {},
   "outputs": [
    {
     "name": "stdout",
     "output_type": "stream",
     "text": [
      "Example with all uppercase and a '.' after 'PT':\n",
      "     PT.ALAM RAYA ELYNDO TANGERANG\n",
      "Example where 'CV' is written incorrectly and has a '.' after it:\n",
      "     Cv. Prima Kreasi Dewata\n",
      "Example with a '.' after 'PT':\n",
      "     PT. Trimitra Kemasindo\n",
      "Example with all lowercase:\n",
      "     bright printing\n",
      "Example with all uppercase:\n",
      "     SMK JAKARTA DUA\n"
     ]
    }
   ],
   "source": [
    "print(\"Example with all uppercase and a '.' after 'PT':\")\n",
    "print(\"    \", df[\"Company\"].iloc[520])\n",
    "print(\"Example where 'CV' is written incorrectly and has a '.' after it:\")\n",
    "print(\"    \", df[\"Company\"].iloc[1092])\n",
    "print(\"Example with a '.' after 'PT':\")\n",
    "print(\"    \", df[\"Company\"].iloc[1720])\n",
    "print(\"Example with all lowercase:\")\n",
    "print(\"    \", df[\"Company\"].iloc[1449])\n",
    "print(\"Example with all uppercase:\")\n",
    "print(\"    \", df[\"Company\"].iloc[207])"
   ]
  },
  {
   "cell_type": "code",
   "execution_count": 130,
   "id": "3e121bf5",
   "metadata": {},
   "outputs": [],
   "source": [
    "# Standardize company names\n",
    "df['Company'] = df['Company'].str.replace(\n",
    "    r'^\\s*(PT|Pt|pt|CV|Cv|cv|PD|Pd|pd|UD|Ud|ud)[\\.\\s]*',\n",
    "    lambda m: m.group(1) + ' ',\n",
    "    regex=True\n",
    ")"
   ]
  },
  {
   "cell_type": "code",
   "execution_count": 131,
   "id": "6beb6913",
   "metadata": {},
   "outputs": [],
   "source": [
    "# Capitalize company names\n",
    "df['Company'] = df['Company'].str.replace(\n",
    "    r'^(.)', lambda m: m.group(1).upper(), regex=True\n",
    ")"
   ]
  },
  {
   "cell_type": "code",
   "execution_count": 132,
   "id": "48e3fdc1",
   "metadata": {},
   "outputs": [],
   "source": [
    "# Convert company names written in all uppercase to title case\n",
    "# df['Company'] = df['Company'].apply(\n",
    "#     lambda x: (\n",
    "#         x.split(' ', 1)[0] + ' ' + x.split(' ', 1)[1].title()\n",
    "#         if  re.match(r'^(PT|CV|PD|UD|TK SDK|SMK|TK / SD)\\s', str(x))\n",
    "#         else x.title() if str(x)\n",
    "#         else x\n",
    "#     )\n",
    "# )\n",
    "\n",
    "df['Company'] = df['Company'].apply(\n",
    "    lambda x: (\n",
    "        re.match(r'^(PT|CV|PD|UD|TK SDK|TK / SD|SMK|KJPP)[\\.\\s/]+', str(x), re.IGNORECASE).group(1).upper() + ' ' +\n",
    "        re.sub(r'^(PT|CV|PD|UD|TK SDK|TK / SD|SMK|KJPP)[\\.\\s/]+', '', str(x), flags=re.IGNORECASE).title()\n",
    "        if re.match(r'^(PT|CV|PD|UD|TK SDK|TK / SD|SMK|KJPP)[\\.\\s/]+', str(x), re.IGNORECASE)\n",
    "        else str(x).title()\n",
    "    )\n",
    ")\n"
   ]
  },
  {
   "cell_type": "code",
   "execution_count": 133,
   "id": "2cd482aa",
   "metadata": {},
   "outputs": [
    {
     "name": "stdout",
     "output_type": "stream",
     "text": [
      "Cleaned and formatted company names:\n",
      "     PT Alam Raya Elyndo Tangerang\n",
      "     CV Prima Kreasi Dewata\n",
      "     PT Trimitra Kemasindo\n",
      "     Bright Printing\n",
      "     SMK Jakarta Dua\n"
     ]
    }
   ],
   "source": [
    "print(\"Cleaned and formatted company names:\")\n",
    "print(\"    \", df[\"Company\"].iloc[520])\n",
    "print(\"    \", df[\"Company\"].iloc[1092])\n",
    "print(\"    \", df[\"Company\"].iloc[1720])\n",
    "print(\"    \", df[\"Company\"].iloc[1449])\n",
    "print(\"    \", df[\"Company\"].iloc[207])"
   ]
  },
  {
   "cell_type": "markdown",
   "id": "b6fa51b0",
   "metadata": {},
   "source": [
    "### Salary Field Extraction and Transformation"
   ]
  },
  {
   "cell_type": "code",
   "execution_count": 134,
   "id": "89209849",
   "metadata": {},
   "outputs": [],
   "source": [
    "# Create \"Salary Negotiation\" column\n",
    "df['Salary Negotiation'] = df['Salary'].apply(\n",
    "    lambda x: 1 if 'negosiasi' in str(x).lower() else 0\n",
    ")"
   ]
  },
  {
   "cell_type": "code",
   "execution_count": 135,
   "id": "84441d4b",
   "metadata": {},
   "outputs": [],
   "source": [
    "# Extract minimum salary and convert from 'juta' format to full numeric value\n",
    "df['Min Salary'] = df['Salary'].apply(\n",
    "    lambda x: int(re.match(r'Rp\\s*(\\d+)', str(x)).group(1)) * 1_000_000\n",
    "    if re.match(r'Rp\\s*(\\d+)\\s*[–-]', str(x)) else\n",
    "    int(re.match(r'Rp\\s*(\\d+)', str(x)).group(1)) * 1_000_000\n",
    "    if 'lebih' in str(x).lower() else pd.NA\n",
    ")\n",
    "\n",
    "# Extract maximum salary\n",
    "df['Max Salary'] = df['Salary'].apply(\n",
    "    lambda x: int(re.match(r'Rp\\s*\\d+\\s*[–-]\\s*(\\d+)', str(x)).group(1)) * 1_000_000\n",
    "    if re.match(r'Rp\\s*\\d+\\s*[–-]\\s*(\\d+)', str(x)) else pd.NA\n",
    ")"
   ]
  },
  {
   "cell_type": "code",
   "execution_count": 136,
   "id": "b42226f7",
   "metadata": {},
   "outputs": [
    {
     "data": {
      "text/html": [
       "<div>\n",
       "<style scoped>\n",
       "    .dataframe tbody tr th:only-of-type {\n",
       "        vertical-align: middle;\n",
       "    }\n",
       "\n",
       "    .dataframe tbody tr th {\n",
       "        vertical-align: top;\n",
       "    }\n",
       "\n",
       "    .dataframe thead th {\n",
       "        text-align: right;\n",
       "    }\n",
       "</style>\n",
       "<table border=\"1\" class=\"dataframe\">\n",
       "  <thead>\n",
       "    <tr style=\"text-align: right;\">\n",
       "      <th></th>\n",
       "      <th>Salary</th>\n",
       "      <th>Min Salary</th>\n",
       "      <th>Max Salary</th>\n",
       "      <th>Salary Negotiation</th>\n",
       "    </tr>\n",
       "  </thead>\n",
       "  <tbody>\n",
       "    <tr>\n",
       "      <th>780</th>\n",
       "      <td>Negosiasi</td>\n",
       "      <td>&lt;NA&gt;</td>\n",
       "      <td>&lt;NA&gt;</td>\n",
       "      <td>1</td>\n",
       "    </tr>\n",
       "    <tr>\n",
       "      <th>781</th>\n",
       "      <td>Rp 20 Juta Lebih</td>\n",
       "      <td>20000000</td>\n",
       "      <td>&lt;NA&gt;</td>\n",
       "      <td>0</td>\n",
       "    </tr>\n",
       "    <tr>\n",
       "      <th>782</th>\n",
       "      <td>Rp 3 – 4 Juta</td>\n",
       "      <td>3000000</td>\n",
       "      <td>4000000</td>\n",
       "      <td>0</td>\n",
       "    </tr>\n",
       "  </tbody>\n",
       "</table>\n",
       "</div>"
      ],
      "text/plain": [
       "               Salary Min Salary Max Salary  Salary Negotiation\n",
       "780         Negosiasi       <NA>       <NA>                   1\n",
       "781  Rp 20 Juta Lebih   20000000       <NA>                   0\n",
       "782     Rp 3 – 4 Juta    3000000    4000000                   0"
      ]
     },
     "execution_count": 136,
     "metadata": {},
     "output_type": "execute_result"
    }
   ],
   "source": [
    "df[['Salary', 'Min Salary', 'Max Salary', 'Salary Negotiation']].iloc[780:783]"
   ]
  },
  {
   "cell_type": "markdown",
   "id": "3082edf5",
   "metadata": {},
   "source": [
    "- The word \"Negosiasi\" indicates no fixed amount, so Min Salary and Max Salary are empty and Salary Negotiation is set to Yes\n",
    "- Since the word \"Lebih\" (more than) is present but no upper limit is stated, 20 million as Min Salary and Max Salary remains empty. Negotiation is not mentioned, so Salary Negotiation is No.\n",
    "- Both Min Salary and Max Salary are extracted and converted to numeric form. No negotiation mentioned, so Salary Negotiation is No."
   ]
  },
  {
   "cell_type": "markdown",
   "id": "aa3a2ee5",
   "metadata": {},
   "source": [
    "### Category Field Cleaning and Splitting"
   ]
  },
  {
   "cell_type": "code",
   "execution_count": 29,
   "id": "8a20c676",
   "metadata": {},
   "outputs": [
    {
     "data": {
      "text/plain": [
       "'Kontrak;SMA / SMK / STM;1-2 Tahun;Staff / Officer;Teknik;Teknik Elektro / Elektronika'"
      ]
     },
     "execution_count": 29,
     "metadata": {},
     "output_type": "execute_result"
    }
   ],
   "source": [
    "df['Category'].iloc[0]"
   ]
  },
  {
   "cell_type": "markdown",
   "id": "04853c6e",
   "metadata": {},
   "source": [
    "The 'Category' column contains multiple job attributes, it need to be splitted to keep only the category in this column"
   ]
  },
  {
   "cell_type": "code",
   "execution_count": 30,
   "id": "774810b0",
   "metadata": {},
   "outputs": [],
   "source": [
    "# Remove Type, Education, and Level because it's already stored\n",
    "# Extract values related to experience (contains \"tahun\") to 'Year of Experience'\n",
    "# Make 'Fresh Graduate' column that will be marked as 'Yes' if mentioned in Category or Description\n",
    "# The remaining items is the Category\n",
    "df[['Category', 'Year of Experience', 'Fresh Graduate']] = df.apply(\n",
    "    lambda row: pd.Series(\n",
    "        (\n",
    "            lambda items, type_val, edu_vals, level_val, desc: (\n",
    "                ';'.join([\n",
    "                    i for i in items\n",
    "                    if i != type_val\n",
    "                    and i not in edu_vals\n",
    "                    and i != level_val\n",
    "                    and 'tahun' not in i.lower()\n",
    "                    and 'fresh graduate' not in i.lower()\n",
    "                ]),\n",
    "\n",
    "                # Year of Experience\n",
    "                ';'.join([i for i in items if 'tahun' in i.lower()]) or '0',\n",
    "\n",
    "                # Fresh Graduate\n",
    "                1 if any('fresh graduate' in i.lower() for i in items) or 'fresh graduate' in desc.lower() else 0\n",
    "            )\n",
    "        )(\n",
    "            str(row['Category']).split(';'),\n",
    "            str(row['Type']),\n",
    "            str(row['Education']).split(';'),\n",
    "            str(row['Level']),\n",
    "            str(row.get('Description', '')).lower()\n",
    "        )\n",
    "    ),\n",
    "    axis=1\n",
    ")"
   ]
  },
  {
   "cell_type": "code",
   "execution_count": 31,
   "id": "f89097c9",
   "metadata": {},
   "outputs": [
    {
     "data": {
      "text/html": [
       "<div>\n",
       "<style scoped>\n",
       "    .dataframe tbody tr th:only-of-type {\n",
       "        vertical-align: middle;\n",
       "    }\n",
       "\n",
       "    .dataframe tbody tr th {\n",
       "        vertical-align: top;\n",
       "    }\n",
       "\n",
       "    .dataframe thead th {\n",
       "        text-align: right;\n",
       "    }\n",
       "</style>\n",
       "<table border=\"1\" class=\"dataframe\">\n",
       "  <thead>\n",
       "    <tr style=\"text-align: right;\">\n",
       "      <th></th>\n",
       "      <th>Category</th>\n",
       "      <th>Type</th>\n",
       "      <th>Education</th>\n",
       "      <th>Category</th>\n",
       "      <th>Fresh Graduate</th>\n",
       "      <th>Year of Experience</th>\n",
       "      <th>Level</th>\n",
       "    </tr>\n",
       "  </thead>\n",
       "  <tbody>\n",
       "    <tr>\n",
       "      <th>0</th>\n",
       "      <td>Teknik;Teknik Elektro / Elektronika</td>\n",
       "      <td>Kontrak</td>\n",
       "      <td>SMA / SMK / STM</td>\n",
       "      <td>Teknik;Teknik Elektro / Elektronika</td>\n",
       "      <td>0</td>\n",
       "      <td>1-2 Tahun</td>\n",
       "      <td>Staff / Officer</td>\n",
       "    </tr>\n",
       "  </tbody>\n",
       "</table>\n",
       "</div>"
      ],
      "text/plain": [
       "                              Category     Type        Education  \\\n",
       "0  Teknik;Teknik Elektro / Elektronika  Kontrak  SMA / SMK / STM   \n",
       "\n",
       "                              Category  Fresh Graduate Year of Experience  \\\n",
       "0  Teknik;Teknik Elektro / Elektronika               0          1-2 Tahun   \n",
       "\n",
       "             Level  \n",
       "0  Staff / Officer  "
      ]
     },
     "execution_count": 31,
     "metadata": {},
     "output_type": "execute_result"
    }
   ],
   "source": [
    "# Current result after processing\n",
    "df[['Category', 'Type', 'Education', 'Category', 'Fresh Graduate', 'Year of Experience', 'Level']].iloc[0:1]"
   ]
  },
  {
   "cell_type": "markdown",
   "id": "1c6f054f",
   "metadata": {},
   "source": [
    "After processing,the Category field only consist of category, there's no other job attributes"
   ]
  },
  {
   "cell_type": "code",
   "execution_count": 32,
   "id": "b5489d79",
   "metadata": {},
   "outputs": [
    {
     "name": "stdout",
     "output_type": "stream",
     "text": [
      "Category\n",
      "0      16\n",
      "1    2213\n",
      "Name: count, dtype: int64\n"
     ]
    }
   ],
   "source": [
    "grouped = df['Category'].str.count(';').value_counts().sort_index()\n",
    "print(grouped)"
   ]
  },
  {
   "cell_type": "markdown",
   "id": "c790c155",
   "metadata": {},
   "source": [
    "The category consists of a main category and a subcategory. There are 16 jobs that only have a main category."
   ]
  },
  {
   "cell_type": "code",
   "execution_count": 33,
   "id": "673ea4a8",
   "metadata": {},
   "outputs": [
    {
     "data": {
      "text/html": [
       "<div>\n",
       "<style scoped>\n",
       "    .dataframe tbody tr th:only-of-type {\n",
       "        vertical-align: middle;\n",
       "    }\n",
       "\n",
       "    .dataframe tbody tr th {\n",
       "        vertical-align: top;\n",
       "    }\n",
       "\n",
       "    .dataframe thead th {\n",
       "        text-align: right;\n",
       "    }\n",
       "</style>\n",
       "<table border=\"1\" class=\"dataframe\">\n",
       "  <thead>\n",
       "    <tr style=\"text-align: right;\">\n",
       "      <th></th>\n",
       "      <th>Job ID</th>\n",
       "      <th>Title</th>\n",
       "      <th>Company</th>\n",
       "      <th>Location</th>\n",
       "      <th>Salary</th>\n",
       "      <th>Category</th>\n",
       "      <th>Posted Date</th>\n",
       "      <th>Link</th>\n",
       "      <th>Function</th>\n",
       "      <th>Type</th>\n",
       "      <th>Education</th>\n",
       "      <th>Level</th>\n",
       "      <th>Description</th>\n",
       "      <th>Salary Negotiation</th>\n",
       "      <th>Min Salary</th>\n",
       "      <th>Max Salary</th>\n",
       "      <th>Year of Experience</th>\n",
       "      <th>Fresh Graduate</th>\n",
       "    </tr>\n",
       "  </thead>\n",
       "  <tbody>\n",
       "    <tr>\n",
       "      <th>1191</th>\n",
       "      <td>15663049</td>\n",
       "      <td>Marketing Associate</td>\n",
       "      <td>PT Metalindo Multiperkasa</td>\n",
       "      <td>Bandung Kota</td>\n",
       "      <td>Negosiasi</td>\n",
       "      <td>Marketing / Pemasaran</td>\n",
       "      <td>2025-06-18 17:04:19</td>\n",
       "      <td>https://www.loker.id/pemasaran/marketing-assoc...</td>\n",
       "      <td>Marketing Executive</td>\n",
       "      <td>Full Time</td>\n",
       "      <td>SMA / SMK / STM;Diploma/D1/D2/D3;Sarjana / S1</td>\n",
       "      <td>Junior / Entry Level</td>\n",
       "      <td>Kami mencari seorang Marketing Associate yang ...</td>\n",
       "      <td>Yes</td>\n",
       "      <td>&lt;NA&gt;</td>\n",
       "      <td>&lt;NA&gt;</td>\n",
       "      <td>1-2 Tahun</td>\n",
       "      <td>0</td>\n",
       "    </tr>\n",
       "  </tbody>\n",
       "</table>\n",
       "</div>"
      ],
      "text/plain": [
       "        Job ID                Title                    Company      Location  \\\n",
       "1191  15663049  Marketing Associate  PT Metalindo Multiperkasa  Bandung Kota   \n",
       "\n",
       "         Salary               Category         Posted Date  \\\n",
       "1191  Negosiasi  Marketing / Pemasaran 2025-06-18 17:04:19   \n",
       "\n",
       "                                                   Link             Function  \\\n",
       "1191  https://www.loker.id/pemasaran/marketing-assoc...  Marketing Executive   \n",
       "\n",
       "           Type                                      Education  \\\n",
       "1191  Full Time  SMA / SMK / STM;Diploma/D1/D2/D3;Sarjana / S1   \n",
       "\n",
       "                     Level                                        Description  \\\n",
       "1191  Junior / Entry Level  Kami mencari seorang Marketing Associate yang ...   \n",
       "\n",
       "     Salary Negotiation Min Salary Max Salary Year of Experience  \\\n",
       "1191                Yes       <NA>       <NA>          1-2 Tahun   \n",
       "\n",
       "      Fresh Graduate  \n",
       "1191               0  "
      ]
     },
     "execution_count": 33,
     "metadata": {},
     "output_type": "execute_result"
    }
   ],
   "source": [
    "# Example row with no semicolon in 'Category' (this means it only has a main category and no subcategory)\n",
    "df[df['Category'].str.count(';') == 0].head(1)"
   ]
  },
  {
   "cell_type": "code",
   "execution_count": 34,
   "id": "bd235a22",
   "metadata": {},
   "outputs": [
    {
     "data": {
      "text/html": [
       "<div>\n",
       "<style scoped>\n",
       "    .dataframe tbody tr th:only-of-type {\n",
       "        vertical-align: middle;\n",
       "    }\n",
       "\n",
       "    .dataframe tbody tr th {\n",
       "        vertical-align: top;\n",
       "    }\n",
       "\n",
       "    .dataframe thead th {\n",
       "        text-align: right;\n",
       "    }\n",
       "</style>\n",
       "<table border=\"1\" class=\"dataframe\">\n",
       "  <thead>\n",
       "    <tr style=\"text-align: right;\">\n",
       "      <th></th>\n",
       "      <th>Job ID</th>\n",
       "      <th>Title</th>\n",
       "      <th>Company</th>\n",
       "      <th>Location</th>\n",
       "      <th>Salary</th>\n",
       "      <th>Category</th>\n",
       "      <th>Posted Date</th>\n",
       "      <th>Link</th>\n",
       "      <th>Function</th>\n",
       "      <th>Type</th>\n",
       "      <th>Education</th>\n",
       "      <th>Level</th>\n",
       "      <th>Description</th>\n",
       "      <th>Salary Negotiation</th>\n",
       "      <th>Min Salary</th>\n",
       "      <th>Max Salary</th>\n",
       "      <th>Year of Experience</th>\n",
       "      <th>Fresh Graduate</th>\n",
       "    </tr>\n",
       "  </thead>\n",
       "  <tbody>\n",
       "    <tr>\n",
       "      <th>0</th>\n",
       "      <td>15758013</td>\n",
       "      <td>Staff Engineering</td>\n",
       "      <td>Rusunami Citypark</td>\n",
       "      <td>Jakarta Barat</td>\n",
       "      <td>Rp 3 – 4 Juta</td>\n",
       "      <td>Teknik;Teknik Elektro / Elektronika</td>\n",
       "      <td>2025-07-09 17:01:00</td>\n",
       "      <td>https://www.loker.id/teknik/elektro/staff-engi...</td>\n",
       "      <td>Teknisi Elektro</td>\n",
       "      <td>Kontrak</td>\n",
       "      <td>SMA / SMK / STM</td>\n",
       "      <td>Staff / Officer</td>\n",
       "      <td>Badan Pengelola Rusunami City Park adalah, Pen...</td>\n",
       "      <td>No</td>\n",
       "      <td>3000000</td>\n",
       "      <td>4000000</td>\n",
       "      <td>1-2 Tahun</td>\n",
       "      <td>0</td>\n",
       "    </tr>\n",
       "  </tbody>\n",
       "</table>\n",
       "</div>"
      ],
      "text/plain": [
       "     Job ID              Title            Company       Location  \\\n",
       "0  15758013  Staff Engineering  Rusunami Citypark  Jakarta Barat   \n",
       "\n",
       "          Salary                             Category         Posted Date  \\\n",
       "0  Rp 3 – 4 Juta  Teknik;Teknik Elektro / Elektronika 2025-07-09 17:01:00   \n",
       "\n",
       "                                                Link         Function  \\\n",
       "0  https://www.loker.id/teknik/elektro/staff-engi...  Teknisi Elektro   \n",
       "\n",
       "      Type        Education            Level  \\\n",
       "0  Kontrak  SMA / SMK / STM  Staff / Officer   \n",
       "\n",
       "                                         Description Salary Negotiation  \\\n",
       "0  Badan Pengelola Rusunami City Park adalah, Pen...                 No   \n",
       "\n",
       "  Min Salary Max Salary Year of Experience  Fresh Graduate  \n",
       "0    3000000    4000000          1-2 Tahun               0  "
      ]
     },
     "execution_count": 34,
     "metadata": {},
     "output_type": "execute_result"
    }
   ],
   "source": [
    "# Example row with semicolon in 'Category' (this means it main category and subcategory)\n",
    "df[df['Category'].str.count(';') == 1].head(1)"
   ]
  },
  {
   "cell_type": "code",
   "execution_count": 35,
   "id": "011b9d3b",
   "metadata": {},
   "outputs": [],
   "source": [
    "# Split into main and subcategory\n",
    "split_cat = df['Category'].str.split(';', n=1, expand=True)\n",
    "\n",
    "# Assign main category and subcategory\n",
    "df['Category'] = split_cat[0]\n",
    "df['Subcategory'] = split_cat[1]  # This will be NaN if there's no subcategory"
   ]
  },
  {
   "cell_type": "code",
   "execution_count": 36,
   "id": "9ab9a030",
   "metadata": {},
   "outputs": [
    {
     "data": {
      "text/html": [
       "<div>\n",
       "<style scoped>\n",
       "    .dataframe tbody tr th:only-of-type {\n",
       "        vertical-align: middle;\n",
       "    }\n",
       "\n",
       "    .dataframe tbody tr th {\n",
       "        vertical-align: top;\n",
       "    }\n",
       "\n",
       "    .dataframe thead th {\n",
       "        text-align: right;\n",
       "    }\n",
       "</style>\n",
       "<table border=\"1\" class=\"dataframe\">\n",
       "  <thead>\n",
       "    <tr style=\"text-align: right;\">\n",
       "      <th></th>\n",
       "      <th>Category</th>\n",
       "      <th>Subcategory</th>\n",
       "    </tr>\n",
       "  </thead>\n",
       "  <tbody>\n",
       "    <tr>\n",
       "      <th>0</th>\n",
       "      <td>Teknik</td>\n",
       "      <td>Teknik Elektro / Elektronika</td>\n",
       "    </tr>\n",
       "  </tbody>\n",
       "</table>\n",
       "</div>"
      ],
      "text/plain": [
       "  Category                   Subcategory\n",
       "0   Teknik  Teknik Elektro / Elektronika"
      ]
     },
     "execution_count": 36,
     "metadata": {},
     "output_type": "execute_result"
    }
   ],
   "source": [
    "# After processing results\n",
    "df[['Category', 'Subcategory']].iloc[0:1]"
   ]
  },
  {
   "cell_type": "markdown",
   "id": "9b0a3939",
   "metadata": {},
   "source": [
    "### Standardizing Job Type and Education Fields"
   ]
  },
  {
   "cell_type": "markdown",
   "id": "45fa7938",
   "metadata": {},
   "source": [
    "##### Standardizing Job Type Language"
   ]
  },
  {
   "cell_type": "code",
   "execution_count": 37,
   "id": "c933f34e",
   "metadata": {},
   "outputs": [
    {
     "name": "stdout",
     "output_type": "stream",
     "text": [
      "['Kontrak' 'Full Time' 'Part Time' 'Magang' 'Freelance']\n"
     ]
    }
   ],
   "source": [
    "# Check unique values from \"Type\" column\n",
    "print(df['Type'].unique())"
   ]
  },
  {
   "cell_type": "code",
   "execution_count": 38,
   "id": "cbc9e8c3",
   "metadata": {},
   "outputs": [
    {
     "name": "stdout",
     "output_type": "stream",
     "text": [
      "['Contract' 'Full Time' 'Part Time' 'Internship' 'Freelance']\n"
     ]
    }
   ],
   "source": [
    "# Translate job types from Indonesian to English for consistency\n",
    "df['Type'] = df['Type'].replace({\n",
    "    'Kontrak': 'Contract',\n",
    "    'Magang': 'Internship'\n",
    "})\n",
    "print(df['Type'].unique())"
   ]
  },
  {
   "cell_type": "markdown",
   "id": "b8113d81",
   "metadata": {},
   "source": [
    "##### Education Field Handling "
   ]
  },
  {
   "cell_type": "code",
   "execution_count": 39,
   "id": "51ad4cf5",
   "metadata": {},
   "outputs": [
    {
     "data": {
      "text/plain": [
       "'SMA / SMK / STM'"
      ]
     },
     "execution_count": 39,
     "metadata": {},
     "output_type": "execute_result"
    }
   ],
   "source": [
    "df['Education'].iloc[0]"
   ]
  },
  {
   "cell_type": "code",
   "execution_count": 40,
   "id": "00972861",
   "metadata": {},
   "outputs": [
    {
     "data": {
      "text/plain": [
       "'SMA/SMK/STM'"
      ]
     },
     "execution_count": 40,
     "metadata": {},
     "output_type": "execute_result"
    }
   ],
   "source": [
    "# Clean up slashes and extra spaces in \"Education\" column\n",
    "df['Education'] = df['Education'].str.replace(r'\\s*/\\s*', '/', regex=True)\n",
    "df['Education'] = df['Education'].str.replace(r'\\s{2,}', ' ', regex=True).str.strip()\n",
    "df['Education'].iloc[0] # example results"
   ]
  },
  {
   "cell_type": "code",
   "execution_count": 41,
   "id": "60077a7f",
   "metadata": {},
   "outputs": [
    {
     "data": {
      "text/plain": [
       "['Diploma/D1/D2/D3', 'Doctor/S3', 'Master/S2', 'SMA/SMK/STM', 'Sarjana/S1']"
      ]
     },
     "execution_count": 41,
     "metadata": {},
     "output_type": "execute_result"
    }
   ],
   "source": [
    "# Check unique values from \"Education\" column\n",
    "all_edu = df['Education'].dropna().astype(str).str.split(';')\n",
    "flat_list = [item.strip() for sublist in all_edu for item in sublist]\n",
    "unique_values = sorted(set(flat_list))\n",
    "unique_values"
   ]
  },
  {
   "cell_type": "code",
   "execution_count": 42,
   "id": "5af88c3b",
   "metadata": {},
   "outputs": [],
   "source": [
    "# Turn each education level into its own column\n",
    "edu_binary = df['Education'].fillna('').astype(str).str.get_dummies(sep=';')\n",
    "df = pd.concat([df, edu_binary], axis=1)"
   ]
  },
  {
   "cell_type": "code",
   "execution_count": 43,
   "id": "41885853",
   "metadata": {},
   "outputs": [
    {
     "data": {
      "text/html": [
       "<div>\n",
       "<style scoped>\n",
       "    .dataframe tbody tr th:only-of-type {\n",
       "        vertical-align: middle;\n",
       "    }\n",
       "\n",
       "    .dataframe tbody tr th {\n",
       "        vertical-align: top;\n",
       "    }\n",
       "\n",
       "    .dataframe thead th {\n",
       "        text-align: right;\n",
       "    }\n",
       "</style>\n",
       "<table border=\"1\" class=\"dataframe\">\n",
       "  <thead>\n",
       "    <tr style=\"text-align: right;\">\n",
       "      <th></th>\n",
       "      <th>Education</th>\n",
       "      <th>SMA/SMK/STM</th>\n",
       "      <th>Diploma/D1/D2/D3</th>\n",
       "      <th>Sarjana/S1</th>\n",
       "      <th>Master/S2</th>\n",
       "      <th>Doctor/S3</th>\n",
       "    </tr>\n",
       "  </thead>\n",
       "  <tbody>\n",
       "    <tr>\n",
       "      <th>4</th>\n",
       "      <td>Diploma/D1/D2/D3;Sarjana/S1</td>\n",
       "      <td>0</td>\n",
       "      <td>1</td>\n",
       "      <td>1</td>\n",
       "      <td>0</td>\n",
       "      <td>0</td>\n",
       "    </tr>\n",
       "    <tr>\n",
       "      <th>5</th>\n",
       "      <td>SMA/SMK/STM</td>\n",
       "      <td>1</td>\n",
       "      <td>0</td>\n",
       "      <td>0</td>\n",
       "      <td>0</td>\n",
       "      <td>0</td>\n",
       "    </tr>\n",
       "    <tr>\n",
       "      <th>6</th>\n",
       "      <td>SMA/SMK/STM;Diploma/D1/D2/D3;Sarjana/S1</td>\n",
       "      <td>1</td>\n",
       "      <td>1</td>\n",
       "      <td>1</td>\n",
       "      <td>0</td>\n",
       "      <td>0</td>\n",
       "    </tr>\n",
       "  </tbody>\n",
       "</table>\n",
       "</div>"
      ],
      "text/plain": [
       "                                 Education  SMA/SMK/STM  Diploma/D1/D2/D3  \\\n",
       "4              Diploma/D1/D2/D3;Sarjana/S1            0                 1   \n",
       "5                              SMA/SMK/STM            1                 0   \n",
       "6  SMA/SMK/STM;Diploma/D1/D2/D3;Sarjana/S1            1                 1   \n",
       "\n",
       "   Sarjana/S1  Master/S2  Doctor/S3  \n",
       "4           1          0          0  \n",
       "5           0          0          0  \n",
       "6           1          0          0  "
      ]
     },
     "execution_count": 43,
     "metadata": {},
     "output_type": "execute_result"
    }
   ],
   "source": [
    "df[['Education', 'SMA/SMK/STM', 'Diploma/D1/D2/D3', 'Sarjana/S1', 'Master/S2', 'Doctor/S3']].iloc[4:7] # After processing results example"
   ]
  },
  {
   "cell_type": "markdown",
   "id": "35f4344c",
   "metadata": {},
   "source": [
    "### Parsing and Extracting Years of Experience Field"
   ]
  },
  {
   "cell_type": "code",
   "execution_count": 44,
   "id": "cb26c3ca",
   "metadata": {},
   "outputs": [],
   "source": [
    "# Extract the minimum number of years from the 'Year of Experience' column\n",
    "df['Min Experience'] = df['Year of Experience'].astype(str).str.lower().str.split(';').apply(\n",
    "    lambda parts: min(\n",
    "        sum([\n",
    "            [int(re.findall(r'\\d+', p)[0]), int(re.findall(r'\\d+', p)[1])]\n",
    "            if re.match(r'\\d+\\s*-\\s*\\d+', p)\n",
    "            else [10] if 'lebih dari' in p\n",
    "            else [int(re.findall(r'\\d+', p)[0])] if re.match(r'\\d+', p)\n",
    "            else []\n",
    "            for p in parts\n",
    "        ], [])\n",
    "    ) if parts != [''] else pd.NA\n",
    ")\n",
    "\n",
    "# Extract the maximum number of years from the 'Year of Experience' column\n",
    "df['Max Experience'] = df.apply(\n",
    "    lambda row: max(\n",
    "        sum([\n",
    "            [int(re.findall(r'\\d+', p)[0]), int(re.findall(r'\\d+', p)[1])]\n",
    "            if re.match(r'\\d+\\s*-\\s*\\d+', p)\n",
    "            else [10] if 'lebih dari' in p\n",
    "            else [int(re.findall(r'\\d+', p)[0])] if re.match(r'\\d+', p)\n",
    "            else []\n",
    "            for p in str(row['Year of Experience']).lower().split(';')\n",
    "        ], [])\n",
    "    ) if 'lebih dari' not in str(row['Year of Experience']).lower() and str(row['Year of Experience']).strip() != ''\n",
    "    else pd.NA,\n",
    "    axis=1\n",
    ")"
   ]
  },
  {
   "cell_type": "code",
   "execution_count": 45,
   "id": "ca16e1b3",
   "metadata": {},
   "outputs": [
    {
     "data": {
      "text/html": [
       "<div>\n",
       "<style scoped>\n",
       "    .dataframe tbody tr th:only-of-type {\n",
       "        vertical-align: middle;\n",
       "    }\n",
       "\n",
       "    .dataframe tbody tr th {\n",
       "        vertical-align: top;\n",
       "    }\n",
       "\n",
       "    .dataframe thead th {\n",
       "        text-align: right;\n",
       "    }\n",
       "</style>\n",
       "<table border=\"1\" class=\"dataframe\">\n",
       "  <thead>\n",
       "    <tr style=\"text-align: right;\">\n",
       "      <th></th>\n",
       "      <th>Year of Experience</th>\n",
       "      <th>Min Experience</th>\n",
       "      <th>Max Experience</th>\n",
       "    </tr>\n",
       "  </thead>\n",
       "  <tbody>\n",
       "    <tr>\n",
       "      <th>0</th>\n",
       "      <td>1-2 Tahun</td>\n",
       "      <td>1</td>\n",
       "      <td>2</td>\n",
       "    </tr>\n",
       "    <tr>\n",
       "      <th>1</th>\n",
       "      <td>1-2 Tahun;3-5 Tahun</td>\n",
       "      <td>1</td>\n",
       "      <td>5</td>\n",
       "    </tr>\n",
       "  </tbody>\n",
       "</table>\n",
       "</div>"
      ],
      "text/plain": [
       "    Year of Experience  Min Experience Max Experience\n",
       "0            1-2 Tahun               1              2\n",
       "1  1-2 Tahun;3-5 Tahun               1              5"
      ]
     },
     "execution_count": 45,
     "metadata": {},
     "output_type": "execute_result"
    }
   ],
   "source": [
    "df[['Year of Experience', 'Min Experience', 'Max Experience']].iloc[0:2] # After processing results example"
   ]
  },
  {
   "cell_type": "markdown",
   "id": "b15c747f",
   "metadata": {},
   "source": [
    "### Skills Extraction"
   ]
  },
  {
   "cell_type": "code",
   "execution_count": 46,
   "id": "115f0fe2",
   "metadata": {},
   "outputs": [],
   "source": [
    "# Extract text \"Keahlian\" in Description column as skills\n",
    "df['Skills'] = df['Description'].str.extract(r'Keahlian *:([\\s\\S]+?)Kualifikasi *:')\n",
    "df['Skills'] = df['Skills'].fillna(df['Description']).str.strip()"
   ]
  },
  {
   "cell_type": "code",
   "execution_count": 47,
   "id": "7a54da65",
   "metadata": {},
   "outputs": [],
   "source": [
    "# Remove bullet points and unnecessary symbols (e.g., '-', '•', '*')\n",
    "df['Skills'] = df['Skills'].apply(lambda x: re.sub(r'[\\-\\•\\●\\*]+', '', x))\n",
    "\n",
    "# Remove numbered list formats like \"1.\", \"1,\", or \"1 .\"\n",
    "df['Skills'] = df['Skills'].apply(lambda x: re.sub(r'\\b\\d+\\s*[\\.,]\\s*', '', x))\n",
    "\n",
    "# Remove alphabetic list formats like \"a.\", \"b,\" or \"c .\"\n",
    "df['Skills'] = df['Skills'].apply(lambda x: re.sub(r'\\b[a-zA-Z]\\s*[\\.,]\\s*', '', x))\n",
    "\n",
    "# Remove unwanted characters, keeping only letters, numbers, whitespace, and basic punctuation\n",
    "df['Skills'] = df['Skills'].apply(lambda x: re.sub(r'[^\\w\\s\\.,/&]', '', x))\n",
    "\n",
    "# Split by line breaks, clean up, and ensure each sentence ends with a period\n",
    "df['Skills'] = df['Skills'].apply(\n",
    "    lambda x: '. '.join([\n",
    "        i.strip().rstrip('.') + '.' for i in re.split(r'[\\n\\r]', x) if i.strip()\n",
    "    ]) if x else ''\n",
    ")\n",
    "\n",
    "# Remove repeated periods, extra spaces, and leading punctuation\n",
    "df['Skills'] = df['Skills'].str.replace(r'\\.\\s*\\.', '.', regex=True)\n",
    "df['Skills'] = df['Skills'].str.replace(r'\\s{2,}', ' ', regex=True)\n",
    "df['Skills'] = df['Skills'].str.replace(r'^\\.\\s*', '', regex=True)\n",
    "df['Skills'] = df['Skills'].str.strip()"
   ]
  },
  {
   "cell_type": "code",
   "execution_count": 79,
   "id": "3eab2f6e",
   "metadata": {},
   "outputs": [],
   "source": [
    "# Translate only if the language is not English\n",
    "df['Skills_En'] = df['Skills'].apply(\n",
    "    lambda x: (\n",
    "        GoogleTranslator(source='auto', target='en').translate(x)\n",
    "        if detect(x) != 'en' else x\n",
    "    ) if pd.notna(x) and x.strip() != '' else ''\n",
    ")"
   ]
  },
  {
   "cell_type": "code",
   "execution_count": 80,
   "id": "da9e29c9",
   "metadata": {},
   "outputs": [
    {
     "data": {
      "text/html": [
       "<div>\n",
       "<style scoped>\n",
       "    .dataframe tbody tr th:only-of-type {\n",
       "        vertical-align: middle;\n",
       "    }\n",
       "\n",
       "    .dataframe tbody tr th {\n",
       "        vertical-align: top;\n",
       "    }\n",
       "\n",
       "    .dataframe thead th {\n",
       "        text-align: right;\n",
       "    }\n",
       "</style>\n",
       "<table border=\"1\" class=\"dataframe\">\n",
       "  <thead>\n",
       "    <tr style=\"text-align: right;\">\n",
       "      <th></th>\n",
       "      <th>Skills</th>\n",
       "      <th>Skills_En</th>\n",
       "    </tr>\n",
       "  </thead>\n",
       "  <tbody>\n",
       "    <tr>\n",
       "      <th>0</th>\n",
       "      <td>Mengerti mekanikal elektrikal dan plumbing. Me...</td>\n",
       "      <td>Understand the mechanical electrical and plumb...</td>\n",
       "    </tr>\n",
       "  </tbody>\n",
       "</table>\n",
       "</div>"
      ],
      "text/plain": [
       "                                              Skills  \\\n",
       "0  Mengerti mekanikal elektrikal dan plumbing. Me...   \n",
       "\n",
       "                                           Skills_En  \n",
       "0  Understand the mechanical electrical and plumb...  "
      ]
     },
     "execution_count": 80,
     "metadata": {},
     "output_type": "execute_result"
    }
   ],
   "source": [
    "df[['Skills', 'Skills_En']].iloc[0:1]"
   ]
  },
  {
   "cell_type": "code",
   "execution_count": 81,
   "id": "2f0d79be",
   "metadata": {},
   "outputs": [],
   "source": [
    "nlp = spacy.load(\"en_core_web_trf\")\n",
    "\n",
    "df['Skill_Set'] = df['Skills_En'].apply(\n",
    "    lambda text: [\n",
    "        ' '.join([token.text for token in chunk if not token.is_stop and not token.is_punct]).strip()\n",
    "        for chunk in nlp(re.sub(r'[^\\w\\s\\-\\.,]', '', text)).noun_chunks\n",
    "        if any(not token.is_stop for token in chunk)\n",
    "    ] if pd.notna(text) and text.strip() != '' else []\n",
    ")"
   ]
  },
  {
   "cell_type": "code",
   "execution_count": null,
   "id": "75d2285b",
   "metadata": {},
   "outputs": [
    {
     "name": "stdout",
     "output_type": "stream",
     "text": [
      "Unique skill: 7310\n"
     ]
    }
   ],
   "source": [
    "# Count unique skills\n",
    "all_skills = [skill for sublist in df['Skill_Set'] for skill in sublist]\n",
    "jumlah_skill_unik = len(set(all_skills))\n",
    "print(\"Unique skill:\", jumlah_skill_unik)"
   ]
  },
  {
   "cell_type": "code",
   "execution_count": 90,
   "id": "4c9e4616",
   "metadata": {},
   "outputs": [],
   "source": [
    "df['Skill_Set'] = df['Skill_Set'].apply(\n",
    "    lambda skills: [\n",
    "        re.sub(r'^[\\W_]+|[\\W_]+$', '', re.sub(r'[^\\w\\s\\-]', '', skill)).strip()\n",
    "        for skill in skills\n",
    "        if isinstance(skill, str) and skill.strip() != ''\n",
    "    ]\n",
    ")"
   ]
  },
  {
   "cell_type": "code",
   "execution_count": 91,
   "id": "90519e9a",
   "metadata": {},
   "outputs": [
    {
     "name": "stdout",
     "output_type": "stream",
     "text": [
      "Unique skill: 7301\n"
     ]
    }
   ],
   "source": [
    "# Count unique skills\n",
    "all_skills = [skill for sublist in df['Skill_Set'] for skill in sublist]\n",
    "jumlah_skill_unik = len(set(all_skills))\n",
    "print(\"Unique skill:\", jumlah_skill_unik)"
   ]
  },
  {
   "cell_type": "code",
   "execution_count": 106,
   "id": "5255aaa3",
   "metadata": {},
   "outputs": [
    {
     "name": "stdout",
     "output_type": "stream",
     "text": [
      "['good communication skills', 'products', 'Google Office Google Doc', 'Google Sheets', 'Photographic skills', 'installation', 'content', 'background', 'interior', 'architecture', 'social media', 'ecommerce platforms', 'additional advantage']\n"
     ]
    }
   ],
   "source": [
    "print(df.loc[10, 'Skill_Set']) # Example"
   ]
  },
  {
   "cell_type": "code",
   "execution_count": null,
   "id": "ecfa1ec0",
   "metadata": {},
   "outputs": [],
   "source": [
    "# Standardize the skills format\n",
    "df['Skill_Set'] = df['Skill_Set'].apply(\n",
    "    lambda skills: [skill.title() for skill in skills if isinstance(skill, str)]\n",
    ")"
   ]
  },
  {
   "cell_type": "code",
   "execution_count": 108,
   "id": "4315022a",
   "metadata": {},
   "outputs": [
    {
     "name": "stdout",
     "output_type": "stream",
     "text": [
      "['Good Communication Skills', 'Products', 'Google Office Google Doc', 'Google Sheets', 'Photographic Skills', 'Installation', 'Content', 'Background', 'Interior', 'Architecture', 'Social Media', 'Ecommerce Platforms', 'Additional Advantage']\n"
     ]
    }
   ],
   "source": [
    "print(df.loc[10, 'Skill_Set']) # After processing example"
   ]
  },
  {
   "cell_type": "code",
   "execution_count": 109,
   "id": "7f25627a",
   "metadata": {},
   "outputs": [],
   "source": [
    "# Choose important column and save data to csv format\n",
    "df[['Job ID', 'Title', 'Company', 'Location', 'Category', 'Subcategory',\n",
    "    'Function', 'Type', 'Level', 'Min Salary', 'Max Salary', 'Salary Negotiation',\n",
    "    'Min Experience', 'Max Experience', 'Fresh Graduate',\n",
    "    'SMA/SMK/STM', 'Diploma/D1/D2/D3', 'Sarjana/S1', 'Master/S2', 'Doctor/S3',\n",
    "    'Posted Date', 'Description', 'Skill_Set', 'Link']].to_csv('job_postings_processed.csv', index=False)"
   ]
  }
 ],
 "metadata": {
  "kernelspec": {
   "display_name": "Python 3",
   "language": "python",
   "name": "python3"
  },
  "language_info": {
   "codemirror_mode": {
    "name": "ipython",
    "version": 3
   },
   "file_extension": ".py",
   "mimetype": "text/x-python",
   "name": "python",
   "nbconvert_exporter": "python",
   "pygments_lexer": "ipython3",
   "version": "3.11.4"
  }
 },
 "nbformat": 4,
 "nbformat_minor": 5
}
